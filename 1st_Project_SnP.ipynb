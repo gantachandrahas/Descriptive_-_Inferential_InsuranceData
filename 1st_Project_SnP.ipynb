{
 "cells": [
  {
   "cell_type": "code",
   "execution_count": 1,
   "id": "52496a25",
   "metadata": {},
   "outputs": [],
   "source": [
    "                                         ### 1st Project ###"
   ]
  },
  {
   "cell_type": "code",
   "execution_count": 36,
   "id": "ee626440",
   "metadata": {},
   "outputs": [
    {
     "data": {
      "text/plain": [
       "'In supervised learning, input data is provided to the model along with the output. \\n   In unsupervised learning, only input data is provided to the model.\\n   But,according to insurance data this is seems to be labeled input and output data of supervised learning. '"
      ]
     },
     "execution_count": 36,
     "metadata": {},
     "output_type": "execute_result"
    }
   ],
   "source": [
    "# 1. Explain the data. Check It is supervised or Unsupervised. Demonstrate?\n",
    "\n",
    "''' The insurance data about the a way to manage your risk. When you buy insurance, \n",
    "you purchase protection against unexpected financial losses. The insurance company pays you or someone you choose\n",
    "if something bad happens to you. If you have no insurance and an accident happens, you may be responsible for all related costs.'''\n",
    "\n",
    "'''In supervised learning, input data is provided to the model along with the output. \n",
    "   In unsupervised learning, only input data is provided to the model.\n",
    "   But,according to insurance data this is seems to be labeled input and output data of supervised learning. ''' \n",
    " "
   ]
  },
  {
   "cell_type": "code",
   "execution_count": 37,
   "id": "e237c59b",
   "metadata": {},
   "outputs": [],
   "source": [
    "import pandas as pd\n",
    "import numpy as np\n",
    "import matplotlib.pyplot as plt\n",
    "import seaborn as sns\n",
    "%matplotlib inline\n",
    "import scipy.stats as st"
   ]
  },
  {
   "cell_type": "code",
   "execution_count": 38,
   "id": "3b98aa97",
   "metadata": {},
   "outputs": [
    {
     "data": {
      "text/html": [
       "<div>\n",
       "<style scoped>\n",
       "    .dataframe tbody tr th:only-of-type {\n",
       "        vertical-align: middle;\n",
       "    }\n",
       "\n",
       "    .dataframe tbody tr th {\n",
       "        vertical-align: top;\n",
       "    }\n",
       "\n",
       "    .dataframe thead th {\n",
       "        text-align: right;\n",
       "    }\n",
       "</style>\n",
       "<table border=\"1\" class=\"dataframe\">\n",
       "  <thead>\n",
       "    <tr style=\"text-align: right;\">\n",
       "      <th></th>\n",
       "      <th>age</th>\n",
       "      <th>sex</th>\n",
       "      <th>bmi</th>\n",
       "      <th>children</th>\n",
       "      <th>smoker</th>\n",
       "      <th>region</th>\n",
       "      <th>charges</th>\n",
       "    </tr>\n",
       "  </thead>\n",
       "  <tbody>\n",
       "    <tr>\n",
       "      <th>0</th>\n",
       "      <td>19</td>\n",
       "      <td>female</td>\n",
       "      <td>27.900</td>\n",
       "      <td>0</td>\n",
       "      <td>yes</td>\n",
       "      <td>southwest</td>\n",
       "      <td>16884.92400</td>\n",
       "    </tr>\n",
       "    <tr>\n",
       "      <th>1</th>\n",
       "      <td>18</td>\n",
       "      <td>male</td>\n",
       "      <td>33.770</td>\n",
       "      <td>1</td>\n",
       "      <td>no</td>\n",
       "      <td>southeast</td>\n",
       "      <td>1725.55230</td>\n",
       "    </tr>\n",
       "    <tr>\n",
       "      <th>2</th>\n",
       "      <td>28</td>\n",
       "      <td>male</td>\n",
       "      <td>33.000</td>\n",
       "      <td>3</td>\n",
       "      <td>no</td>\n",
       "      <td>southeast</td>\n",
       "      <td>4449.46200</td>\n",
       "    </tr>\n",
       "    <tr>\n",
       "      <th>3</th>\n",
       "      <td>33</td>\n",
       "      <td>male</td>\n",
       "      <td>22.705</td>\n",
       "      <td>0</td>\n",
       "      <td>no</td>\n",
       "      <td>northwest</td>\n",
       "      <td>21984.47061</td>\n",
       "    </tr>\n",
       "    <tr>\n",
       "      <th>4</th>\n",
       "      <td>32</td>\n",
       "      <td>male</td>\n",
       "      <td>28.880</td>\n",
       "      <td>0</td>\n",
       "      <td>no</td>\n",
       "      <td>northwest</td>\n",
       "      <td>3866.85520</td>\n",
       "    </tr>\n",
       "    <tr>\n",
       "      <th>...</th>\n",
       "      <td>...</td>\n",
       "      <td>...</td>\n",
       "      <td>...</td>\n",
       "      <td>...</td>\n",
       "      <td>...</td>\n",
       "      <td>...</td>\n",
       "      <td>...</td>\n",
       "    </tr>\n",
       "    <tr>\n",
       "      <th>1333</th>\n",
       "      <td>50</td>\n",
       "      <td>male</td>\n",
       "      <td>30.970</td>\n",
       "      <td>3</td>\n",
       "      <td>no</td>\n",
       "      <td>northwest</td>\n",
       "      <td>10600.54830</td>\n",
       "    </tr>\n",
       "    <tr>\n",
       "      <th>1334</th>\n",
       "      <td>18</td>\n",
       "      <td>female</td>\n",
       "      <td>31.920</td>\n",
       "      <td>0</td>\n",
       "      <td>no</td>\n",
       "      <td>northeast</td>\n",
       "      <td>2205.98080</td>\n",
       "    </tr>\n",
       "    <tr>\n",
       "      <th>1335</th>\n",
       "      <td>18</td>\n",
       "      <td>female</td>\n",
       "      <td>36.850</td>\n",
       "      <td>0</td>\n",
       "      <td>no</td>\n",
       "      <td>southeast</td>\n",
       "      <td>1629.83350</td>\n",
       "    </tr>\n",
       "    <tr>\n",
       "      <th>1336</th>\n",
       "      <td>21</td>\n",
       "      <td>female</td>\n",
       "      <td>25.800</td>\n",
       "      <td>0</td>\n",
       "      <td>no</td>\n",
       "      <td>southwest</td>\n",
       "      <td>2007.94500</td>\n",
       "    </tr>\n",
       "    <tr>\n",
       "      <th>1337</th>\n",
       "      <td>61</td>\n",
       "      <td>female</td>\n",
       "      <td>29.070</td>\n",
       "      <td>0</td>\n",
       "      <td>yes</td>\n",
       "      <td>northwest</td>\n",
       "      <td>29141.36030</td>\n",
       "    </tr>\n",
       "  </tbody>\n",
       "</table>\n",
       "<p>1338 rows × 7 columns</p>\n",
       "</div>"
      ],
      "text/plain": [
       "      age     sex     bmi  children smoker     region      charges\n",
       "0      19  female  27.900         0    yes  southwest  16884.92400\n",
       "1      18    male  33.770         1     no  southeast   1725.55230\n",
       "2      28    male  33.000         3     no  southeast   4449.46200\n",
       "3      33    male  22.705         0     no  northwest  21984.47061\n",
       "4      32    male  28.880         0     no  northwest   3866.85520\n",
       "...   ...     ...     ...       ...    ...        ...          ...\n",
       "1333   50    male  30.970         3     no  northwest  10600.54830\n",
       "1334   18  female  31.920         0     no  northeast   2205.98080\n",
       "1335   18  female  36.850         0     no  southeast   1629.83350\n",
       "1336   21  female  25.800         0     no  southwest   2007.94500\n",
       "1337   61  female  29.070         0    yes  northwest  29141.36030\n",
       "\n",
       "[1338 rows x 7 columns]"
      ]
     },
     "execution_count": 38,
     "metadata": {},
     "output_type": "execute_result"
    }
   ],
   "source": [
    "df=pd.read_csv('insurance .csv')\n",
    "df"
   ]
  },
  {
   "cell_type": "code",
   "execution_count": 39,
   "id": "a5b55a1f",
   "metadata": {},
   "outputs": [
    {
     "name": "stdout",
     "output_type": "stream",
     "text": [
      "4128.062499999999\n"
     ]
    }
   ],
   "source": [
    "# 2. Estimate the minimum sample size n to get the 99% accurate predictions. (precision = 0.02)\n",
    "z=-2.57 \n",
    "e=0.02  #(precision error)\n",
    "p=0.5   #(probability of success)\n",
    "q=1-p   #(probability of failure)\n",
    "\n",
    "sample_size_of_n=(z**2/e**2)*p*q\n",
    "print(sample_size_of_n)"
   ]
  },
  {
   "cell_type": "code",
   "execution_count": 40,
   "id": "9000da1e",
   "metadata": {},
   "outputs": [],
   "source": [
    "# 3. Check the data is cleaned or not. If not then clean it (Null values, Row/Column Duplicates, Outliers, \n",
    "#                                                           Change the string into numbers)"
   ]
  },
  {
   "cell_type": "code",
   "execution_count": 41,
   "id": "0529649e",
   "metadata": {},
   "outputs": [
    {
     "data": {
      "text/plain": [
       "age         0\n",
       "sex         0\n",
       "bmi         0\n",
       "children    0\n",
       "smoker      0\n",
       "region      0\n",
       "charges     0\n",
       "dtype: int64"
      ]
     },
     "execution_count": 41,
     "metadata": {},
     "output_type": "execute_result"
    }
   ],
   "source": [
    "# Checking of null values.\n",
    "df.isnull().sum()"
   ]
  },
  {
   "cell_type": "code",
   "execution_count": 42,
   "id": "eebd0e17",
   "metadata": {},
   "outputs": [
    {
     "data": {
      "text/plain": [
       "1"
      ]
     },
     "execution_count": 42,
     "metadata": {},
     "output_type": "execute_result"
    }
   ],
   "source": [
    "# Checking of duplicate values.\n",
    "df.duplicated().sum()"
   ]
  },
  {
   "cell_type": "code",
   "execution_count": 43,
   "id": "64b55019",
   "metadata": {},
   "outputs": [
    {
     "data": {
      "text/html": [
       "<div>\n",
       "<style scoped>\n",
       "    .dataframe tbody tr th:only-of-type {\n",
       "        vertical-align: middle;\n",
       "    }\n",
       "\n",
       "    .dataframe tbody tr th {\n",
       "        vertical-align: top;\n",
       "    }\n",
       "\n",
       "    .dataframe thead th {\n",
       "        text-align: right;\n",
       "    }\n",
       "</style>\n",
       "<table border=\"1\" class=\"dataframe\">\n",
       "  <thead>\n",
       "    <tr style=\"text-align: right;\">\n",
       "      <th></th>\n",
       "      <th>age</th>\n",
       "      <th>sex</th>\n",
       "      <th>bmi</th>\n",
       "      <th>children</th>\n",
       "      <th>smoker</th>\n",
       "      <th>region</th>\n",
       "      <th>charges</th>\n",
       "    </tr>\n",
       "  </thead>\n",
       "  <tbody>\n",
       "    <tr>\n",
       "      <th>195</th>\n",
       "      <td>19</td>\n",
       "      <td>male</td>\n",
       "      <td>30.59</td>\n",
       "      <td>0</td>\n",
       "      <td>no</td>\n",
       "      <td>northwest</td>\n",
       "      <td>1639.5631</td>\n",
       "    </tr>\n",
       "  </tbody>\n",
       "</table>\n",
       "</div>"
      ],
      "text/plain": [
       "     age   sex    bmi  children smoker     region    charges\n",
       "195   19  male  30.59         0     no  northwest  1639.5631"
      ]
     },
     "execution_count": 43,
     "metadata": {},
     "output_type": "execute_result"
    }
   ],
   "source": [
    "duplicates=df[df.duplicated(keep='last')]\n",
    "duplicates"
   ]
  },
  {
   "cell_type": "markdown",
   "id": "576d61e2",
   "metadata": {},
   "source": [
    "df.drop_duplicates(inplace = True)\n",
    "df.duplicated().sum()"
   ]
  },
  {
   "cell_type": "code",
   "execution_count": 44,
   "id": "af138565",
   "metadata": {},
   "outputs": [
    {
     "name": "stdout",
     "output_type": "stream",
     "text": [
      "age\n",
      " percentage= 0.0\n",
      " number=0\n",
      " mean= 39.20702541106129\n",
      " min=18\n",
      " max=64\n",
      "bmi\n",
      " percentage= 0.672645739910314\n",
      " number=9\n",
      " mean= 30.663396860986538\n",
      " min=15.96\n",
      " max=53.13\n",
      "children\n",
      " percentage= 0.0\n",
      " number=0\n",
      " mean= 1.0949177877429\n",
      " min=0\n",
      " max=5\n",
      "charges\n",
      " percentage= 10.388639760837071\n",
      " number=139\n",
      " mean= 13270.422265141257\n",
      " min=1121.8739\n",
      " max=63770.42801\n"
     ]
    }
   ],
   "source": [
    "# Removing of Outliers\n",
    "def outliers(column):\n",
    "    a=df[column].mean()\n",
    "    a1=df[column].min()\n",
    "    a2=df[column].max()\n",
    "    l=len(df)\n",
    "    q1=df[column].quantile(0.25)\n",
    "    q3=df[column].quantile(0.75)\n",
    "    \n",
    "    IQR=q3-q1\n",
    "    lower=q1-(IQR*1.5)\n",
    "    upper=q3+(IQR*1.5)\n",
    "    no=len(df.loc[np.where((df[column]>upper) | (df[column]<lower))])\n",
    "    percent= (no/l)*100\n",
    "    print(f'{column}\\n percentage= {percent}\\n number={no}\\n mean= {a}\\n min={a1}\\n max={a2}')\n",
    "    \n",
    "for i in df.select_dtypes(exclude='object').columns:\n",
    "    outliers(i)"
   ]
  },
  {
   "cell_type": "code",
   "execution_count": 46,
   "id": "4c815521",
   "metadata": {},
   "outputs": [
    {
     "data": {
      "text/html": [
       "<div>\n",
       "<style scoped>\n",
       "    .dataframe tbody tr th:only-of-type {\n",
       "        vertical-align: middle;\n",
       "    }\n",
       "\n",
       "    .dataframe tbody tr th {\n",
       "        vertical-align: top;\n",
       "    }\n",
       "\n",
       "    .dataframe thead th {\n",
       "        text-align: right;\n",
       "    }\n",
       "</style>\n",
       "<table border=\"1\" class=\"dataframe\">\n",
       "  <thead>\n",
       "    <tr style=\"text-align: right;\">\n",
       "      <th></th>\n",
       "      <th>count</th>\n",
       "      <th>mean</th>\n",
       "      <th>std</th>\n",
       "      <th>min</th>\n",
       "      <th>25%</th>\n",
       "      <th>50%</th>\n",
       "      <th>75%</th>\n",
       "      <th>max</th>\n",
       "    </tr>\n",
       "  </thead>\n",
       "  <tbody>\n",
       "    <tr>\n",
       "      <th>age</th>\n",
       "      <td>1338.0</td>\n",
       "      <td>39.207025</td>\n",
       "      <td>14.049960</td>\n",
       "      <td>18.0000</td>\n",
       "      <td>27.00000</td>\n",
       "      <td>39.000</td>\n",
       "      <td>51.000000</td>\n",
       "      <td>64.00000</td>\n",
       "    </tr>\n",
       "    <tr>\n",
       "      <th>bmi</th>\n",
       "      <td>1338.0</td>\n",
       "      <td>30.663397</td>\n",
       "      <td>6.098187</td>\n",
       "      <td>15.9600</td>\n",
       "      <td>26.29625</td>\n",
       "      <td>30.400</td>\n",
       "      <td>34.693750</td>\n",
       "      <td>53.13000</td>\n",
       "    </tr>\n",
       "    <tr>\n",
       "      <th>children</th>\n",
       "      <td>1338.0</td>\n",
       "      <td>1.094918</td>\n",
       "      <td>1.205493</td>\n",
       "      <td>0.0000</td>\n",
       "      <td>0.00000</td>\n",
       "      <td>1.000</td>\n",
       "      <td>2.000000</td>\n",
       "      <td>5.00000</td>\n",
       "    </tr>\n",
       "    <tr>\n",
       "      <th>charges</th>\n",
       "      <td>1338.0</td>\n",
       "      <td>13270.422265</td>\n",
       "      <td>12110.011237</td>\n",
       "      <td>1121.8739</td>\n",
       "      <td>4740.28715</td>\n",
       "      <td>9382.033</td>\n",
       "      <td>16639.912515</td>\n",
       "      <td>63770.42801</td>\n",
       "    </tr>\n",
       "  </tbody>\n",
       "</table>\n",
       "</div>"
      ],
      "text/plain": [
       "           count          mean           std        min         25%       50%  \\\n",
       "age       1338.0     39.207025     14.049960    18.0000    27.00000    39.000   \n",
       "bmi       1338.0     30.663397      6.098187    15.9600    26.29625    30.400   \n",
       "children  1338.0      1.094918      1.205493     0.0000     0.00000     1.000   \n",
       "charges   1338.0  13270.422265  12110.011237  1121.8739  4740.28715  9382.033   \n",
       "\n",
       "                   75%          max  \n",
       "age          51.000000     64.00000  \n",
       "bmi          34.693750     53.13000  \n",
       "children      2.000000      5.00000  \n",
       "charges   16639.912515  63770.42801  "
      ]
     },
     "execution_count": 46,
     "metadata": {},
     "output_type": "execute_result"
    }
   ],
   "source": [
    "df.describe().T"
   ]
  },
  {
   "cell_type": "code",
   "execution_count": 47,
   "id": "f0afe86e",
   "metadata": {},
   "outputs": [
    {
     "data": {
      "text/html": [
       "<div>\n",
       "<style scoped>\n",
       "    .dataframe tbody tr th:only-of-type {\n",
       "        vertical-align: middle;\n",
       "    }\n",
       "\n",
       "    .dataframe tbody tr th {\n",
       "        vertical-align: top;\n",
       "    }\n",
       "\n",
       "    .dataframe thead th {\n",
       "        text-align: right;\n",
       "    }\n",
       "</style>\n",
       "<table border=\"1\" class=\"dataframe\">\n",
       "  <thead>\n",
       "    <tr style=\"text-align: right;\">\n",
       "      <th></th>\n",
       "      <th>age</th>\n",
       "      <th>sex</th>\n",
       "      <th>bmi</th>\n",
       "      <th>children</th>\n",
       "      <th>smoker</th>\n",
       "      <th>region</th>\n",
       "      <th>charges</th>\n",
       "    </tr>\n",
       "  </thead>\n",
       "  <tbody>\n",
       "    <tr>\n",
       "      <th>0</th>\n",
       "      <td>19</td>\n",
       "      <td>1</td>\n",
       "      <td>27.900</td>\n",
       "      <td>0</td>\n",
       "      <td>1</td>\n",
       "      <td>1</td>\n",
       "      <td>16884.92400</td>\n",
       "    </tr>\n",
       "    <tr>\n",
       "      <th>1</th>\n",
       "      <td>18</td>\n",
       "      <td>0</td>\n",
       "      <td>33.770</td>\n",
       "      <td>1</td>\n",
       "      <td>0</td>\n",
       "      <td>2</td>\n",
       "      <td>1725.55230</td>\n",
       "    </tr>\n",
       "    <tr>\n",
       "      <th>2</th>\n",
       "      <td>28</td>\n",
       "      <td>0</td>\n",
       "      <td>33.000</td>\n",
       "      <td>3</td>\n",
       "      <td>0</td>\n",
       "      <td>2</td>\n",
       "      <td>4449.46200</td>\n",
       "    </tr>\n",
       "    <tr>\n",
       "      <th>3</th>\n",
       "      <td>33</td>\n",
       "      <td>0</td>\n",
       "      <td>22.705</td>\n",
       "      <td>0</td>\n",
       "      <td>0</td>\n",
       "      <td>3</td>\n",
       "      <td>21984.47061</td>\n",
       "    </tr>\n",
       "    <tr>\n",
       "      <th>4</th>\n",
       "      <td>32</td>\n",
       "      <td>0</td>\n",
       "      <td>28.880</td>\n",
       "      <td>0</td>\n",
       "      <td>0</td>\n",
       "      <td>3</td>\n",
       "      <td>3866.85520</td>\n",
       "    </tr>\n",
       "    <tr>\n",
       "      <th>...</th>\n",
       "      <td>...</td>\n",
       "      <td>...</td>\n",
       "      <td>...</td>\n",
       "      <td>...</td>\n",
       "      <td>...</td>\n",
       "      <td>...</td>\n",
       "      <td>...</td>\n",
       "    </tr>\n",
       "    <tr>\n",
       "      <th>1333</th>\n",
       "      <td>50</td>\n",
       "      <td>0</td>\n",
       "      <td>30.970</td>\n",
       "      <td>3</td>\n",
       "      <td>0</td>\n",
       "      <td>3</td>\n",
       "      <td>10600.54830</td>\n",
       "    </tr>\n",
       "    <tr>\n",
       "      <th>1334</th>\n",
       "      <td>18</td>\n",
       "      <td>1</td>\n",
       "      <td>31.920</td>\n",
       "      <td>0</td>\n",
       "      <td>0</td>\n",
       "      <td>4</td>\n",
       "      <td>2205.98080</td>\n",
       "    </tr>\n",
       "    <tr>\n",
       "      <th>1335</th>\n",
       "      <td>18</td>\n",
       "      <td>1</td>\n",
       "      <td>36.850</td>\n",
       "      <td>0</td>\n",
       "      <td>0</td>\n",
       "      <td>2</td>\n",
       "      <td>1629.83350</td>\n",
       "    </tr>\n",
       "    <tr>\n",
       "      <th>1336</th>\n",
       "      <td>21</td>\n",
       "      <td>1</td>\n",
       "      <td>25.800</td>\n",
       "      <td>0</td>\n",
       "      <td>0</td>\n",
       "      <td>1</td>\n",
       "      <td>2007.94500</td>\n",
       "    </tr>\n",
       "    <tr>\n",
       "      <th>1337</th>\n",
       "      <td>61</td>\n",
       "      <td>1</td>\n",
       "      <td>29.070</td>\n",
       "      <td>0</td>\n",
       "      <td>1</td>\n",
       "      <td>3</td>\n",
       "      <td>29141.36030</td>\n",
       "    </tr>\n",
       "  </tbody>\n",
       "</table>\n",
       "<p>1338 rows × 7 columns</p>\n",
       "</div>"
      ],
      "text/plain": [
       "      age  sex     bmi  children  smoker  region      charges\n",
       "0      19    1  27.900         0       1       1  16884.92400\n",
       "1      18    0  33.770         1       0       2   1725.55230\n",
       "2      28    0  33.000         3       0       2   4449.46200\n",
       "3      33    0  22.705         0       0       3  21984.47061\n",
       "4      32    0  28.880         0       0       3   3866.85520\n",
       "...   ...  ...     ...       ...     ...     ...          ...\n",
       "1333   50    0  30.970         3       0       3  10600.54830\n",
       "1334   18    1  31.920         0       0       4   2205.98080\n",
       "1335   18    1  36.850         0       0       2   1629.83350\n",
       "1336   21    1  25.800         0       0       1   2007.94500\n",
       "1337   61    1  29.070         0       1       3  29141.36030\n",
       "\n",
       "[1338 rows x 7 columns]"
      ]
     },
     "execution_count": 47,
     "metadata": {},
     "output_type": "execute_result"
    }
   ],
   "source": [
    "# Changing the Strings into integer of sex,smoker and region column as below.\n",
    "\n",
    "df['sex']=df['sex'].map({'male':0,'female':1}).astype(int)\n",
    "df['smoker']=df['smoker'].map({'yes':1,'no':0}).astype(int)\n",
    "df['region']=df['region'].map({'southwest':1,'southeast':2,'northwest':3,'northeast':4}).astype(int)\n",
    "df"
   ]
  },
  {
   "cell_type": "code",
   "execution_count": 48,
   "id": "0097f2a3",
   "metadata": {},
   "outputs": [
    {
     "data": {
      "text/plain": [
       "'Sex and smoker are statistically independent.'"
      ]
     },
     "execution_count": 48,
     "metadata": {},
     "output_type": "execute_result"
    }
   ],
   "source": [
    "# 4. Check that sex and smoking are statistically independent or not.\n",
    "'Sex and smoker are statistically independent.'"
   ]
  },
  {
   "cell_type": "code",
   "execution_count": 49,
   "id": "ba971c63",
   "metadata": {},
   "outputs": [
    {
     "name": "stdout",
     "output_type": "stream",
     "text": [
      "-0.07618481692109508\n"
     ]
    }
   ],
   "source": [
    "c1=df[\"sex\"]\n",
    "c2=df[\"smoker\"]\n",
    "correlation=c1.corr(c2)\n",
    "print(correlation)"
   ]
  },
  {
   "cell_type": "code",
   "execution_count": 50,
   "id": "df64abc9",
   "metadata": {},
   "outputs": [
    {
     "name": "stdout",
     "output_type": "stream",
     "text": [
      "-0.02501875153628505\n"
     ]
    }
   ],
   "source": [
    "# 5. Check that all regressor variables (independent variable) are independent of each other or not.\n",
    "c1=df[\"age\"]\n",
    "c2=df[\"smoker\"]\n",
    "correlation=c1.corr(c2)\n",
    "print(correlation)"
   ]
  },
  {
   "cell_type": "code",
   "execution_count": 53,
   "id": "ea755a4f",
   "metadata": {},
   "outputs": [
    {
     "name": "stdout",
     "output_type": "stream",
     "text": [
      "-0.0007188576016893378\n",
      "0.23296752685128622\n"
     ]
    }
   ],
   "source": [
    "x=df['age']\n",
    "y=df['smoker']\n",
    "\n",
    "x_mean=df.age.mean()\n",
    "df['difference_x']=x_mean-x\n",
    "df['difference_x^2'] = df.difference_x**2\n",
    "sq1=df['difference_x^2'].sum()  \n",
    "\n",
    "y_mean=y.mean()\n",
    "df['difference_y'] = y_mean-y\n",
    "sq2=(df.difference_x * df.difference_y).sum() \n",
    "\n",
    "n=sq2/sq1 \n",
    "print(n)\n",
    "\n",
    "j=y_mean-n*x_mean \n",
    "print(j)\n",
    "\n",
    "def prediction_of_y(value):\n",
    "    predicted=n+value+j\n",
    "    return predicted"
   ]
  },
  {
   "cell_type": "code",
   "execution_count": 60,
   "id": "74999514",
   "metadata": {},
   "outputs": [
    {
     "data": {
      "text/plain": [
       "217.88938714499255"
      ]
     },
     "execution_count": 60,
     "metadata": {},
     "output_type": "execute_result"
    }
   ],
   "source": [
    "total_some_of_squares=((y-y_mean)**2).sum()\n",
    "total_some_of_squares"
   ]
  },
  {
   "cell_type": "code",
   "execution_count": 61,
   "id": "20a659f0",
   "metadata": {},
   "outputs": [
    {
     "data": {
      "text/plain": [
       "0       19.232249\n",
       "1       18.232249\n",
       "2       28.232249\n",
       "3       33.232249\n",
       "4       32.232249\n",
       "          ...    \n",
       "1333    50.232249\n",
       "1334    18.232249\n",
       "1335    18.232249\n",
       "1336    21.232249\n",
       "1337    61.232249\n",
       "Name: age, Length: 1338, dtype: float64"
      ]
     },
     "execution_count": 61,
     "metadata": {},
     "output_type": "execute_result"
    }
   ],
   "source": [
    "y_hat=prediction_of_y(x)\n",
    "y_hat"
   ]
  },
  {
   "cell_type": "code",
   "execution_count": 62,
   "id": "8e2cc233",
   "metadata": {},
   "outputs": [
    {
     "data": {
      "text/plain": [
       "2324166.9645861443"
      ]
     },
     "execution_count": 62,
     "metadata": {},
     "output_type": "execute_result"
    }
   ],
   "source": [
    "some_residual_squares = ((y-y_hat)**2).sum()\n",
    "some_residual_squares"
   ]
  },
  {
   "cell_type": "code",
   "execution_count": 63,
   "id": "17ae047c",
   "metadata": {},
   "outputs": [
    {
     "data": {
      "text/plain": [
       "0.9999062505446188"
      ]
     },
     "execution_count": 63,
     "metadata": {},
     "output_type": "execute_result"
    }
   ],
   "source": [
    "R_square=1-total_some_of_squares/some_residual_squares\n",
    "R_square"
   ]
  },
  {
   "cell_type": "code",
   "execution_count": 66,
   "id": "e304896c",
   "metadata": {},
   "outputs": [
    {
     "data": {
      "text/html": [
       "<div>\n",
       "<style scoped>\n",
       "    .dataframe tbody tr th:only-of-type {\n",
       "        vertical-align: middle;\n",
       "    }\n",
       "\n",
       "    .dataframe tbody tr th {\n",
       "        vertical-align: top;\n",
       "    }\n",
       "\n",
       "    .dataframe thead th {\n",
       "        text-align: right;\n",
       "    }\n",
       "</style>\n",
       "<table border=\"1\" class=\"dataframe\">\n",
       "  <thead>\n",
       "    <tr style=\"text-align: right;\">\n",
       "      <th></th>\n",
       "      <th>age</th>\n",
       "      <th>sex</th>\n",
       "      <th>bmi</th>\n",
       "      <th>children</th>\n",
       "      <th>smoker</th>\n",
       "      <th>region</th>\n",
       "      <th>charges</th>\n",
       "      <th>difference_x</th>\n",
       "      <th>difference_x^2</th>\n",
       "      <th>difference_y</th>\n",
       "    </tr>\n",
       "  </thead>\n",
       "  <tbody>\n",
       "    <tr>\n",
       "      <th>age</th>\n",
       "      <td>1.000000</td>\n",
       "      <td>0.020856</td>\n",
       "      <td>0.109272</td>\n",
       "      <td>0.042469</td>\n",
       "      <td>-0.025019</td>\n",
       "      <td>-0.002127</td>\n",
       "      <td>0.299008</td>\n",
       "      <td>-1.000000</td>\n",
       "      <td>0.063997</td>\n",
       "      <td>0.025019</td>\n",
       "    </tr>\n",
       "    <tr>\n",
       "      <th>sex</th>\n",
       "      <td>0.020856</td>\n",
       "      <td>1.000000</td>\n",
       "      <td>-0.046371</td>\n",
       "      <td>-0.017163</td>\n",
       "      <td>-0.076185</td>\n",
       "      <td>0.004588</td>\n",
       "      <td>-0.057292</td>\n",
       "      <td>-0.020856</td>\n",
       "      <td>0.000327</td>\n",
       "      <td>0.076185</td>\n",
       "    </tr>\n",
       "    <tr>\n",
       "      <th>bmi</th>\n",
       "      <td>0.109272</td>\n",
       "      <td>-0.046371</td>\n",
       "      <td>1.000000</td>\n",
       "      <td>0.012759</td>\n",
       "      <td>0.003750</td>\n",
       "      <td>-0.157566</td>\n",
       "      <td>0.198341</td>\n",
       "      <td>-0.109272</td>\n",
       "      <td>0.038516</td>\n",
       "      <td>-0.003750</td>\n",
       "    </tr>\n",
       "    <tr>\n",
       "      <th>children</th>\n",
       "      <td>0.042469</td>\n",
       "      <td>-0.017163</td>\n",
       "      <td>0.012759</td>\n",
       "      <td>1.000000</td>\n",
       "      <td>0.007673</td>\n",
       "      <td>-0.016569</td>\n",
       "      <td>0.067998</td>\n",
       "      <td>-0.042469</td>\n",
       "      <td>-0.294268</td>\n",
       "      <td>-0.007673</td>\n",
       "    </tr>\n",
       "    <tr>\n",
       "      <th>smoker</th>\n",
       "      <td>-0.025019</td>\n",
       "      <td>-0.076185</td>\n",
       "      <td>0.003750</td>\n",
       "      <td>0.007673</td>\n",
       "      <td>1.000000</td>\n",
       "      <td>0.002181</td>\n",
       "      <td>0.787251</td>\n",
       "      <td>0.025019</td>\n",
       "      <td>-0.010738</td>\n",
       "      <td>-1.000000</td>\n",
       "    </tr>\n",
       "    <tr>\n",
       "      <th>region</th>\n",
       "      <td>-0.002127</td>\n",
       "      <td>0.004588</td>\n",
       "      <td>-0.157566</td>\n",
       "      <td>-0.016569</td>\n",
       "      <td>0.002181</td>\n",
       "      <td>1.000000</td>\n",
       "      <td>0.006208</td>\n",
       "      <td>0.002127</td>\n",
       "      <td>0.003403</td>\n",
       "      <td>-0.002181</td>\n",
       "    </tr>\n",
       "    <tr>\n",
       "      <th>charges</th>\n",
       "      <td>0.299008</td>\n",
       "      <td>-0.057292</td>\n",
       "      <td>0.198341</td>\n",
       "      <td>0.067998</td>\n",
       "      <td>0.787251</td>\n",
       "      <td>0.006208</td>\n",
       "      <td>1.000000</td>\n",
       "      <td>-0.299008</td>\n",
       "      <td>0.053527</td>\n",
       "      <td>-0.787251</td>\n",
       "    </tr>\n",
       "    <tr>\n",
       "      <th>difference_x</th>\n",
       "      <td>-1.000000</td>\n",
       "      <td>-0.020856</td>\n",
       "      <td>-0.109272</td>\n",
       "      <td>-0.042469</td>\n",
       "      <td>0.025019</td>\n",
       "      <td>0.002127</td>\n",
       "      <td>-0.299008</td>\n",
       "      <td>1.000000</td>\n",
       "      <td>-0.063997</td>\n",
       "      <td>-0.025019</td>\n",
       "    </tr>\n",
       "    <tr>\n",
       "      <th>difference_x^2</th>\n",
       "      <td>0.063997</td>\n",
       "      <td>0.000327</td>\n",
       "      <td>0.038516</td>\n",
       "      <td>-0.294268</td>\n",
       "      <td>-0.010738</td>\n",
       "      <td>0.003403</td>\n",
       "      <td>0.053527</td>\n",
       "      <td>-0.063997</td>\n",
       "      <td>1.000000</td>\n",
       "      <td>0.010738</td>\n",
       "    </tr>\n",
       "    <tr>\n",
       "      <th>difference_y</th>\n",
       "      <td>0.025019</td>\n",
       "      <td>0.076185</td>\n",
       "      <td>-0.003750</td>\n",
       "      <td>-0.007673</td>\n",
       "      <td>-1.000000</td>\n",
       "      <td>-0.002181</td>\n",
       "      <td>-0.787251</td>\n",
       "      <td>-0.025019</td>\n",
       "      <td>0.010738</td>\n",
       "      <td>1.000000</td>\n",
       "    </tr>\n",
       "  </tbody>\n",
       "</table>\n",
       "</div>"
      ],
      "text/plain": [
       "                     age       sex       bmi  children    smoker    region  \\\n",
       "age             1.000000  0.020856  0.109272  0.042469 -0.025019 -0.002127   \n",
       "sex             0.020856  1.000000 -0.046371 -0.017163 -0.076185  0.004588   \n",
       "bmi             0.109272 -0.046371  1.000000  0.012759  0.003750 -0.157566   \n",
       "children        0.042469 -0.017163  0.012759  1.000000  0.007673 -0.016569   \n",
       "smoker         -0.025019 -0.076185  0.003750  0.007673  1.000000  0.002181   \n",
       "region         -0.002127  0.004588 -0.157566 -0.016569  0.002181  1.000000   \n",
       "charges         0.299008 -0.057292  0.198341  0.067998  0.787251  0.006208   \n",
       "difference_x   -1.000000 -0.020856 -0.109272 -0.042469  0.025019  0.002127   \n",
       "difference_x^2  0.063997  0.000327  0.038516 -0.294268 -0.010738  0.003403   \n",
       "difference_y    0.025019  0.076185 -0.003750 -0.007673 -1.000000 -0.002181   \n",
       "\n",
       "                 charges  difference_x  difference_x^2  difference_y  \n",
       "age             0.299008     -1.000000        0.063997      0.025019  \n",
       "sex            -0.057292     -0.020856        0.000327      0.076185  \n",
       "bmi             0.198341     -0.109272        0.038516     -0.003750  \n",
       "children        0.067998     -0.042469       -0.294268     -0.007673  \n",
       "smoker          0.787251      0.025019       -0.010738     -1.000000  \n",
       "region          0.006208      0.002127        0.003403     -0.002181  \n",
       "charges         1.000000     -0.299008        0.053527     -0.787251  \n",
       "difference_x   -0.299008      1.000000       -0.063997     -0.025019  \n",
       "difference_x^2  0.053527     -0.063997        1.000000      0.010738  \n",
       "difference_y   -0.787251     -0.025019        0.010738      1.000000  "
      ]
     },
     "execution_count": 66,
     "metadata": {},
     "output_type": "execute_result"
    }
   ],
   "source": [
    "df.corr()"
   ]
  },
  {
   "cell_type": "code",
   "execution_count": null,
   "id": "9ce40932",
   "metadata": {},
   "outputs": [],
   "source": [
    "# 6. Check the dependency between response and regressors.\n",
    "''' According to insurance data, there is a small dependency on charges based on [age],[bmi]. \n",
    "But there is a huge dependency on smoker. '''"
   ]
  },
  {
   "cell_type": "code",
   "execution_count": 67,
   "id": "317f37b5",
   "metadata": {},
   "outputs": [
    {
     "name": "stdout",
     "output_type": "stream",
     "text": [
      "0.29900819333064765\n"
     ]
    }
   ],
   "source": [
    "c1=df[\"age\"]\n",
    "c2=df[\"charges\"]\n",
    "correlation = c1.corr(c2)\n",
    "print(correlation)"
   ]
  },
  {
   "cell_type": "code",
   "execution_count": 68,
   "id": "2cc36363",
   "metadata": {},
   "outputs": [
    {
     "name": "stdout",
     "output_type": "stream",
     "text": [
      "-0.05729206220202542\n"
     ]
    }
   ],
   "source": [
    "c1=df[\"sex\"]\n",
    "c2=df[\"charges\"]\n",
    "correlation=c1.corr(c2)\n",
    "print(correlation)"
   ]
  },
  {
   "cell_type": "code",
   "execution_count": 69,
   "id": "25c3a20b",
   "metadata": {},
   "outputs": [
    {
     "name": "stdout",
     "output_type": "stream",
     "text": [
      "0.1983409688336289\n"
     ]
    }
   ],
   "source": [
    "c1=df[\"bmi\"]\n",
    "c2=df[\"charges\"]\n",
    "correlation = c1.corr(c2)\n",
    "print(correlation)"
   ]
  },
  {
   "cell_type": "code",
   "execution_count": 70,
   "id": "6fa6b2a1",
   "metadata": {},
   "outputs": [
    {
     "name": "stdout",
     "output_type": "stream",
     "text": [
      "0.7872514304984771\n"
     ]
    }
   ],
   "source": [
    "c1=df[\"smoker\"]\n",
    "c2=df[\"charges\"]\n",
    "correlation = c1.corr(c2)\n",
    "print(correlation)"
   ]
  },
  {
   "cell_type": "code",
   "execution_count": 71,
   "id": "5c665395",
   "metadata": {},
   "outputs": [
    {
     "data": {
      "text/html": [
       "<div>\n",
       "<style scoped>\n",
       "    .dataframe tbody tr th:only-of-type {\n",
       "        vertical-align: middle;\n",
       "    }\n",
       "\n",
       "    .dataframe tbody tr th {\n",
       "        vertical-align: top;\n",
       "    }\n",
       "\n",
       "    .dataframe thead th {\n",
       "        text-align: right;\n",
       "    }\n",
       "</style>\n",
       "<table border=\"1\" class=\"dataframe\">\n",
       "  <thead>\n",
       "    <tr style=\"text-align: right;\">\n",
       "      <th></th>\n",
       "      <th>age</th>\n",
       "      <th>sex</th>\n",
       "      <th>bmi</th>\n",
       "      <th>children</th>\n",
       "      <th>smoker</th>\n",
       "      <th>region</th>\n",
       "      <th>charges</th>\n",
       "      <th>difference_x</th>\n",
       "      <th>difference_x^2</th>\n",
       "      <th>difference_y</th>\n",
       "    </tr>\n",
       "  </thead>\n",
       "  <tbody>\n",
       "    <tr>\n",
       "      <th>age</th>\n",
       "      <td>1.000000</td>\n",
       "      <td>0.020856</td>\n",
       "      <td>0.109272</td>\n",
       "      <td>0.042469</td>\n",
       "      <td>-0.025019</td>\n",
       "      <td>-0.002127</td>\n",
       "      <td>0.299008</td>\n",
       "      <td>-1.000000</td>\n",
       "      <td>0.063997</td>\n",
       "      <td>0.025019</td>\n",
       "    </tr>\n",
       "    <tr>\n",
       "      <th>sex</th>\n",
       "      <td>0.020856</td>\n",
       "      <td>1.000000</td>\n",
       "      <td>-0.046371</td>\n",
       "      <td>-0.017163</td>\n",
       "      <td>-0.076185</td>\n",
       "      <td>0.004588</td>\n",
       "      <td>-0.057292</td>\n",
       "      <td>-0.020856</td>\n",
       "      <td>0.000327</td>\n",
       "      <td>0.076185</td>\n",
       "    </tr>\n",
       "    <tr>\n",
       "      <th>bmi</th>\n",
       "      <td>0.109272</td>\n",
       "      <td>-0.046371</td>\n",
       "      <td>1.000000</td>\n",
       "      <td>0.012759</td>\n",
       "      <td>0.003750</td>\n",
       "      <td>-0.157566</td>\n",
       "      <td>0.198341</td>\n",
       "      <td>-0.109272</td>\n",
       "      <td>0.038516</td>\n",
       "      <td>-0.003750</td>\n",
       "    </tr>\n",
       "    <tr>\n",
       "      <th>children</th>\n",
       "      <td>0.042469</td>\n",
       "      <td>-0.017163</td>\n",
       "      <td>0.012759</td>\n",
       "      <td>1.000000</td>\n",
       "      <td>0.007673</td>\n",
       "      <td>-0.016569</td>\n",
       "      <td>0.067998</td>\n",
       "      <td>-0.042469</td>\n",
       "      <td>-0.294268</td>\n",
       "      <td>-0.007673</td>\n",
       "    </tr>\n",
       "    <tr>\n",
       "      <th>smoker</th>\n",
       "      <td>-0.025019</td>\n",
       "      <td>-0.076185</td>\n",
       "      <td>0.003750</td>\n",
       "      <td>0.007673</td>\n",
       "      <td>1.000000</td>\n",
       "      <td>0.002181</td>\n",
       "      <td>0.787251</td>\n",
       "      <td>0.025019</td>\n",
       "      <td>-0.010738</td>\n",
       "      <td>-1.000000</td>\n",
       "    </tr>\n",
       "    <tr>\n",
       "      <th>region</th>\n",
       "      <td>-0.002127</td>\n",
       "      <td>0.004588</td>\n",
       "      <td>-0.157566</td>\n",
       "      <td>-0.016569</td>\n",
       "      <td>0.002181</td>\n",
       "      <td>1.000000</td>\n",
       "      <td>0.006208</td>\n",
       "      <td>0.002127</td>\n",
       "      <td>0.003403</td>\n",
       "      <td>-0.002181</td>\n",
       "    </tr>\n",
       "    <tr>\n",
       "      <th>charges</th>\n",
       "      <td>0.299008</td>\n",
       "      <td>-0.057292</td>\n",
       "      <td>0.198341</td>\n",
       "      <td>0.067998</td>\n",
       "      <td>0.787251</td>\n",
       "      <td>0.006208</td>\n",
       "      <td>1.000000</td>\n",
       "      <td>-0.299008</td>\n",
       "      <td>0.053527</td>\n",
       "      <td>-0.787251</td>\n",
       "    </tr>\n",
       "    <tr>\n",
       "      <th>difference_x</th>\n",
       "      <td>-1.000000</td>\n",
       "      <td>-0.020856</td>\n",
       "      <td>-0.109272</td>\n",
       "      <td>-0.042469</td>\n",
       "      <td>0.025019</td>\n",
       "      <td>0.002127</td>\n",
       "      <td>-0.299008</td>\n",
       "      <td>1.000000</td>\n",
       "      <td>-0.063997</td>\n",
       "      <td>-0.025019</td>\n",
       "    </tr>\n",
       "    <tr>\n",
       "      <th>difference_x^2</th>\n",
       "      <td>0.063997</td>\n",
       "      <td>0.000327</td>\n",
       "      <td>0.038516</td>\n",
       "      <td>-0.294268</td>\n",
       "      <td>-0.010738</td>\n",
       "      <td>0.003403</td>\n",
       "      <td>0.053527</td>\n",
       "      <td>-0.063997</td>\n",
       "      <td>1.000000</td>\n",
       "      <td>0.010738</td>\n",
       "    </tr>\n",
       "    <tr>\n",
       "      <th>difference_y</th>\n",
       "      <td>0.025019</td>\n",
       "      <td>0.076185</td>\n",
       "      <td>-0.003750</td>\n",
       "      <td>-0.007673</td>\n",
       "      <td>-1.000000</td>\n",
       "      <td>-0.002181</td>\n",
       "      <td>-0.787251</td>\n",
       "      <td>-0.025019</td>\n",
       "      <td>0.010738</td>\n",
       "      <td>1.000000</td>\n",
       "    </tr>\n",
       "  </tbody>\n",
       "</table>\n",
       "</div>"
      ],
      "text/plain": [
       "                     age       sex       bmi  children    smoker    region  \\\n",
       "age             1.000000  0.020856  0.109272  0.042469 -0.025019 -0.002127   \n",
       "sex             0.020856  1.000000 -0.046371 -0.017163 -0.076185  0.004588   \n",
       "bmi             0.109272 -0.046371  1.000000  0.012759  0.003750 -0.157566   \n",
       "children        0.042469 -0.017163  0.012759  1.000000  0.007673 -0.016569   \n",
       "smoker         -0.025019 -0.076185  0.003750  0.007673  1.000000  0.002181   \n",
       "region         -0.002127  0.004588 -0.157566 -0.016569  0.002181  1.000000   \n",
       "charges         0.299008 -0.057292  0.198341  0.067998  0.787251  0.006208   \n",
       "difference_x   -1.000000 -0.020856 -0.109272 -0.042469  0.025019  0.002127   \n",
       "difference_x^2  0.063997  0.000327  0.038516 -0.294268 -0.010738  0.003403   \n",
       "difference_y    0.025019  0.076185 -0.003750 -0.007673 -1.000000 -0.002181   \n",
       "\n",
       "                 charges  difference_x  difference_x^2  difference_y  \n",
       "age             0.299008     -1.000000        0.063997      0.025019  \n",
       "sex            -0.057292     -0.020856        0.000327      0.076185  \n",
       "bmi             0.198341     -0.109272        0.038516     -0.003750  \n",
       "children        0.067998     -0.042469       -0.294268     -0.007673  \n",
       "smoker          0.787251      0.025019       -0.010738     -1.000000  \n",
       "region          0.006208      0.002127        0.003403     -0.002181  \n",
       "charges         1.000000     -0.299008        0.053527     -0.787251  \n",
       "difference_x   -0.299008      1.000000       -0.063997     -0.025019  \n",
       "difference_x^2  0.053527     -0.063997        1.000000      0.010738  \n",
       "difference_y   -0.787251     -0.025019        0.010738      1.000000  "
      ]
     },
     "execution_count": 71,
     "metadata": {},
     "output_type": "execute_result"
    }
   ],
   "source": [
    "df.corr()"
   ]
  },
  {
   "cell_type": "code",
   "execution_count": 74,
   "id": "6c80a8d4",
   "metadata": {},
   "outputs": [
    {
     "name": "stdout",
     "output_type": "stream",
     "text": [
      "x :  [[ 1.   19.    1.   27.9   1.  ]\n",
      " [ 1.   18.    0.   33.77  0.  ]\n",
      " [ 1.   28.    0.   33.    0.  ]\n",
      " ...\n",
      " [ 1.   18.    1.   36.85  0.  ]\n",
      " [ 1.   21.    1.   25.8   0.  ]\n",
      " [ 1.   61.    1.   29.07  1.  ]]\n",
      "\n",
      "x Transpose :  [[ 1.    1.    1.   ...  1.    1.    1.  ]\n",
      " [19.   18.   28.   ... 18.   21.   61.  ]\n",
      " [ 1.    0.    0.   ...  1.    1.    1.  ]\n",
      " [27.9  33.77 33.   ... 36.85 25.8  29.07]\n",
      " [ 1.    0.    0.   ...  0.    0.    1.  ]]\n",
      "beta values: [-11742.53570285    259.45318189    109.04110867    323.0510586\n",
      "  23833.87003847]\n",
      "\n",
      "-11742.535702854278\n",
      "259.45318188534793\n",
      "109.0411086749009\n",
      "323.05105860188996\n",
      "23833.870038468318\n"
     ]
    }
   ],
   "source": [
    "# 7. Predict the regression Line to predict the charges for insurance using independent variables.\n",
    "x1=df[\"age\"]\n",
    "x2=df[\"sex\"]\n",
    "x3=df[\"bmi\"]\n",
    "x4=df[\"smoker\"]\n",
    "y=df[\"charges\"]\n",
    "\n",
    "x1=np.array(x1)\n",
    "x2=np.array(x2)\n",
    "x3=np.array(x3)\n",
    "x4=np.array(x4)\n",
    "y=np.array(y)\n",
    "\n",
    "n=len(x1)\n",
    "\n",
    "x_ones= np.ones((n,1))\n",
    "\n",
    "x1_new=np.reshape(x1,(n,1))\n",
    "x2_new=np.reshape(x2,(n,1))\n",
    "x3_new=np.reshape(x3,(n,1))\n",
    "x4_new=np.reshape(x4,(n,1))\n",
    "\n",
    "x_new=np.append(x_ones,x1_new,axis=1)\n",
    "x_new=np.append(x_new,x2_new,axis=1)\n",
    "x_new=np.append(x_new,x3_new,axis=1)\n",
    "x_new=np.append(x_new,x4_new,axis=1)\n",
    "\n",
    "print(\"x : \", x_new)\n",
    "print()\n",
    "\n",
    "x_new_transpose = np.transpose(x_new)\n",
    "\n",
    "print(\"x Transpose : \", x_new_transpose)\n",
    "\n",
    "x_new_transpose_dot_x_new = x_new_transpose.dot(x_new)\n",
    "temp1 =np.linalg.inv(x_new_transpose_dot_x_new)\n",
    "temp2= x_new_transpose.dot(y)\n",
    "\n",
    "Bheta_values = temp1.dot(temp2)\n",
    "print(\"beta values:\",Bheta_values)\n",
    "print()\n",
    "\n",
    "beta_0=Bheta_values[0]\n",
    "beta_1=Bheta_values[1]\n",
    "beta_2=Bheta_values[2]\n",
    "beta_3=Bheta_values[3]\n",
    "beta_4=Bheta_values[4]\n",
    "\n",
    "print(beta_0)\n",
    "print(beta_1)\n",
    "print(beta_2)\n",
    "print(beta_3)\n",
    "print(beta_4)\n",
    "\n",
    "\n",
    "def predicted_values(beta_0,beta_1,beta_2,beta_3,beta_4,age,sex,bmi,smoker):\n",
    "    predicted_value = beta_0 +(age * beta_1)+ (sex * beta_2) + (bmi * beta_3) + (smoker * beta_4)\n",
    "    return predicted_value\n",
    "\n"
   ]
  },
  {
   "cell_type": "code",
   "execution_count": 75,
   "id": "6d1688a2",
   "metadata": {},
   "outputs": [
    {
     "name": "stdout",
     "output_type": "stream",
     "text": [
      "28769.94735981695\n"
     ]
    }
   ],
   "source": [
    "age=29\n",
    "sex=1\n",
    "bmi=28\n",
    "smoker=1\n",
    "\n",
    "print(predicted_values(beta_0,beta_1,beta_2,beta_3,beta_4,age,sex,bmi,smoker))"
   ]
  },
  {
   "cell_type": "code",
   "execution_count": 78,
   "id": "2c520a8f",
   "metadata": {},
   "outputs": [
    {
     "name": "stdout",
     "output_type": "stream",
     "text": [
      "x:  [[19.    1.   27.9   0.    1.  ]\n",
      " [18.    0.   33.77  1.    0.  ]\n",
      " [28.    0.   33.    3.    0.  ]\n",
      " ...\n",
      " [18.    1.   36.85  0.    0.  ]\n",
      " [21.    1.   25.8   0.    0.  ]\n",
      " [61.    1.   29.07  0.    1.  ]]\n",
      "y:  [16884.924   1725.5523  4449.462  ...  1629.8335  2007.945  29141.3603]\n"
     ]
    }
   ],
   "source": [
    "# 8. Predict the accuracy of the regression Model.\n",
    "x=df.iloc[:,0:5].values\n",
    "y=df.iloc[:,6].values\n",
    "print(\"x: \",x)\n",
    "print(\"y: \",y)"
   ]
  },
  {
   "cell_type": "code",
   "execution_count": 79,
   "id": "3b11d7e6",
   "metadata": {},
   "outputs": [
    {
     "name": "stdout",
     "output_type": "stream",
     "text": [
      "Linear Regression Accuracy is 79.52171980481992\n"
     ]
    }
   ],
   "source": [
    "from sklearn.model_selection import train_test_split\n",
    "x_train,x_test,y_train,y_test=train_test_split(x,y,test_size=0.25,random_state=0)\n",
    "\n",
    "from sklearn.linear_model import LinearRegression\n",
    "lin_regressor= LinearRegression()\n",
    "lin_regressor.fit(x_train,y_train)\n",
    "y_predict=lin_regressor.predict(x_test)\n",
    "score=lin_regressor.score(x_test,y_test)\n",
    "print(\"Linear Regression Accuracy is\",score*100)"
   ]
  },
  {
   "cell_type": "code",
   "execution_count": 81,
   "id": "e8def1b2",
   "metadata": {},
   "outputs": [],
   "source": [
    "# 9. Predict insurance charge for Age = 29, Sex = F, bmi = 28, children = 1, Smoke = Yes, region = southeast.\n"
   ]
  },
  {
   "cell_type": "code",
   "execution_count": 82,
   "id": "192222be",
   "metadata": {},
   "outputs": [
    {
     "name": "stdout",
     "output_type": "stream",
     "text": [
      "x :  [[ 1.   19.    1.   27.9   1.    1.  ]\n",
      " [ 1.   18.    0.   33.77  0.    2.  ]\n",
      " [ 1.   28.    0.   33.    0.    2.  ]\n",
      " ...\n",
      " [ 1.   18.    1.   36.85  0.    2.  ]\n",
      " [ 1.   21.    1.   25.8   0.    1.  ]\n",
      " [ 1.   61.    1.   29.07  1.    3.  ]]\n",
      "\n",
      "x Transpose :  [[ 1.    1.    1.   ...  1.    1.    1.  ]\n",
      " [19.   18.   28.   ... 18.   21.   61.  ]\n",
      " [ 1.    0.    0.   ...  1.    1.    1.  ]\n",
      " [27.9  33.77 33.   ... 36.85 25.8  29.07]\n",
      " [ 1.    0.    0.   ...  0.    0.    1.  ]\n",
      " [ 1.    2.    2.   ...  2.    1.    3.  ]]\n",
      "beta values: [-12890.75688823    259.03415876    111.25453502    333.02767891\n",
      "  23831.08709943    345.45176906]\n",
      "\n",
      "-12890.756888225616\n",
      "259.03415876477425\n",
      "111.2545350150649\n",
      "333.0276789060699\n",
      "23831.087099428918\n",
      "345.4517690617813\n"
     ]
    }
   ],
   "source": [
    "## REGION -   southwest :1, southeast :2, northwest :3, northeast :4 \n",
    "## SEX -     male :0, female :1\n",
    "## SMOKER  -  yes :1, no :0\n",
    "\n",
    "x1=df[\"age\"]\n",
    "x2=df[\"sex\"]\n",
    "x3=df[\"bmi\"]\n",
    "x4=df[\"smoker\"]\n",
    "x5=df[\"region\"]\n",
    "y=df[\"charges\"]\n",
    "\n",
    "x1=np.array(x1)\n",
    "x2=np.array(x2)\n",
    "x3=np.array(x3)\n",
    "x4=np.array(x4)\n",
    "x5=np.array(x5)\n",
    "\n",
    "y=np.array(y)\n",
    "\n",
    "n=len(x1)\n",
    "\n",
    "x_ones= np.ones((n,1))\n",
    "\n",
    "x1_new=np.reshape(x1,(n,1))\n",
    "x2_new=np.reshape(x2,(n,1))\n",
    "x3_new=np.reshape(x3,(n,1))\n",
    "x4_new=np.reshape(x4,(n,1))\n",
    "x5_new=np.reshape(x5,(n,1))\n",
    "\n",
    "\n",
    "x_new=np.append(x_ones,x1_new,axis=1)\n",
    "x_new=np.append(x_new,x2_new,axis=1)\n",
    "x_new=np.append(x_new,x3_new,axis=1)\n",
    "x_new=np.append(x_new,x4_new,axis=1)\n",
    "x_new=np.append(x_new,x5_new,axis=1)\n",
    "\n",
    "\n",
    "print(\"x : \", x_new)\n",
    "print()\n",
    "\n",
    "x_new_transpose = np.transpose(x_new)\n",
    "\n",
    "print(\"x Transpose : \", x_new_transpose)\n",
    "\n",
    "x_new_transpose_dot_x_new = x_new_transpose.dot(x_new)\n",
    "temp1 =np.linalg.inv(x_new_transpose_dot_x_new)\n",
    "temp2= x_new_transpose.dot(y)\n",
    "\n",
    "Bheta_values = temp1.dot(temp2)\n",
    "print(\"beta values:\",Bheta_values)\n",
    "print()\n",
    "\n",
    "beta_0=Bheta_values[0]\n",
    "beta_1=Bheta_values[1]\n",
    "beta_2=Bheta_values[2]\n",
    "beta_3=Bheta_values[3]\n",
    "beta_4=Bheta_values[4]\n",
    "beta_5=Bheta_values[5]\n",
    "\n",
    "\n",
    "print(beta_0)\n",
    "print(beta_1)\n",
    "print(beta_2)\n",
    "print(beta_3)\n",
    "print(beta_4)\n",
    "print(beta_5)\n",
    "\n",
    "\n",
    "\n",
    "def predicted_values(beta_0,beta_1,beta_2,beta_3,beta_4,beta_5,age,sex,bmi,smoker,region):\n",
    "    predicted_value = beta_0 +(age * beta_1)+ (sex * beta_2) + (bmi * beta_3) + (smoker * beta_4) + (region * beta_5)\n",
    "    return predicted_value\n"
   ]
  },
  {
   "cell_type": "code",
   "execution_count": 83,
   "id": "856c3239",
   "metadata": {},
   "outputs": [
    {
     "name": "stdout",
     "output_type": "stream",
     "text": [
      "28579.25389789034\n"
     ]
    }
   ],
   "source": [
    "age=29\n",
    "sex=1\n",
    "bmi=28\n",
    "smoker=1\n",
    "region=2\n",
    "\n",
    "print(predicted_values(beta_0,beta_1,beta_2,beta_3,beta_4,beta_5,age,sex,bmi,smoker,region))"
   ]
  },
  {
   "cell_type": "code",
   "execution_count": 85,
   "id": "0f5d4725",
   "metadata": {},
   "outputs": [],
   "source": [
    "# 10. Give the percentage of error in regression model."
   ]
  },
  {
   "cell_type": "code",
   "execution_count": 90,
   "id": "7c6da6d7",
   "metadata": {},
   "outputs": [
    {
     "name": "stdout",
     "output_type": "stream",
     "text": [
      "The Mean Square Error is:  470550437393.09753\n"
     ]
    }
   ],
   "source": [
    "y=df['charges'].sum()\n",
    "y_bar=df.charges.mean()\n",
    "suma=0  \n",
    "l=df.charges.size \n",
    "\n",
    "difference=y-y_bar\n",
    "squared_difference=difference**2  \n",
    "suma = summation+squared_difference \n",
    "MSE = suma/l\n",
    "    \n",
    "print(\"The Mean Square Error is: \" , MSE)"
   ]
  },
  {
   "cell_type": "code",
   "execution_count": 91,
   "id": "d219952d",
   "metadata": {},
   "outputs": [],
   "source": [
    "# 11. Give the 95% confidence interval for average charge insurance."
   ]
  },
  {
   "cell_type": "code",
   "execution_count": 92,
   "id": "06ad18d3",
   "metadata": {},
   "outputs": [],
   "source": [
    "import numpy as np\n",
    "import pandas as pd\n",
    "import matplotlib.pyplot as plt\n",
    "from scipy import stats\n",
    "import statsmodels.stats.weightstats as sms\n",
    "from scipy.stats import t\n",
    "import math"
   ]
  },
  {
   "cell_type": "code",
   "execution_count": 93,
   "id": "53cf623b",
   "metadata": {},
   "outputs": [
    {
     "data": {
      "text/html": [
       "<div>\n",
       "<style scoped>\n",
       "    .dataframe tbody tr th:only-of-type {\n",
       "        vertical-align: middle;\n",
       "    }\n",
       "\n",
       "    .dataframe tbody tr th {\n",
       "        vertical-align: top;\n",
       "    }\n",
       "\n",
       "    .dataframe thead th {\n",
       "        text-align: right;\n",
       "    }\n",
       "</style>\n",
       "<table border=\"1\" class=\"dataframe\">\n",
       "  <thead>\n",
       "    <tr style=\"text-align: right;\">\n",
       "      <th></th>\n",
       "      <th>age</th>\n",
       "      <th>sex</th>\n",
       "      <th>bmi</th>\n",
       "      <th>children</th>\n",
       "      <th>smoker</th>\n",
       "      <th>region</th>\n",
       "      <th>charges</th>\n",
       "      <th>difference_x</th>\n",
       "      <th>difference_x^2</th>\n",
       "      <th>difference_y</th>\n",
       "    </tr>\n",
       "  </thead>\n",
       "  <tbody>\n",
       "    <tr>\n",
       "      <th>0</th>\n",
       "      <td>19</td>\n",
       "      <td>1</td>\n",
       "      <td>27.900</td>\n",
       "      <td>0</td>\n",
       "      <td>1</td>\n",
       "      <td>1</td>\n",
       "      <td>16884.92400</td>\n",
       "      <td>20.207025</td>\n",
       "      <td>408.323876</td>\n",
       "      <td>-0.795217</td>\n",
       "    </tr>\n",
       "    <tr>\n",
       "      <th>1</th>\n",
       "      <td>18</td>\n",
       "      <td>0</td>\n",
       "      <td>33.770</td>\n",
       "      <td>1</td>\n",
       "      <td>0</td>\n",
       "      <td>2</td>\n",
       "      <td>1725.55230</td>\n",
       "      <td>21.207025</td>\n",
       "      <td>449.737927</td>\n",
       "      <td>0.204783</td>\n",
       "    </tr>\n",
       "    <tr>\n",
       "      <th>2</th>\n",
       "      <td>28</td>\n",
       "      <td>0</td>\n",
       "      <td>33.000</td>\n",
       "      <td>3</td>\n",
       "      <td>0</td>\n",
       "      <td>2</td>\n",
       "      <td>4449.46200</td>\n",
       "      <td>11.207025</td>\n",
       "      <td>125.597419</td>\n",
       "      <td>0.204783</td>\n",
       "    </tr>\n",
       "    <tr>\n",
       "      <th>3</th>\n",
       "      <td>33</td>\n",
       "      <td>0</td>\n",
       "      <td>22.705</td>\n",
       "      <td>0</td>\n",
       "      <td>0</td>\n",
       "      <td>3</td>\n",
       "      <td>21984.47061</td>\n",
       "      <td>6.207025</td>\n",
       "      <td>38.527164</td>\n",
       "      <td>0.204783</td>\n",
       "    </tr>\n",
       "    <tr>\n",
       "      <th>4</th>\n",
       "      <td>32</td>\n",
       "      <td>0</td>\n",
       "      <td>28.880</td>\n",
       "      <td>0</td>\n",
       "      <td>0</td>\n",
       "      <td>3</td>\n",
       "      <td>3866.85520</td>\n",
       "      <td>7.207025</td>\n",
       "      <td>51.941215</td>\n",
       "      <td>0.204783</td>\n",
       "    </tr>\n",
       "    <tr>\n",
       "      <th>...</th>\n",
       "      <td>...</td>\n",
       "      <td>...</td>\n",
       "      <td>...</td>\n",
       "      <td>...</td>\n",
       "      <td>...</td>\n",
       "      <td>...</td>\n",
       "      <td>...</td>\n",
       "      <td>...</td>\n",
       "      <td>...</td>\n",
       "      <td>...</td>\n",
       "    </tr>\n",
       "    <tr>\n",
       "      <th>1333</th>\n",
       "      <td>50</td>\n",
       "      <td>0</td>\n",
       "      <td>30.970</td>\n",
       "      <td>3</td>\n",
       "      <td>0</td>\n",
       "      <td>3</td>\n",
       "      <td>10600.54830</td>\n",
       "      <td>-10.792975</td>\n",
       "      <td>116.488300</td>\n",
       "      <td>0.204783</td>\n",
       "    </tr>\n",
       "    <tr>\n",
       "      <th>1334</th>\n",
       "      <td>18</td>\n",
       "      <td>1</td>\n",
       "      <td>31.920</td>\n",
       "      <td>0</td>\n",
       "      <td>0</td>\n",
       "      <td>4</td>\n",
       "      <td>2205.98080</td>\n",
       "      <td>21.207025</td>\n",
       "      <td>449.737927</td>\n",
       "      <td>0.204783</td>\n",
       "    </tr>\n",
       "    <tr>\n",
       "      <th>1335</th>\n",
       "      <td>18</td>\n",
       "      <td>1</td>\n",
       "      <td>36.850</td>\n",
       "      <td>0</td>\n",
       "      <td>0</td>\n",
       "      <td>2</td>\n",
       "      <td>1629.83350</td>\n",
       "      <td>21.207025</td>\n",
       "      <td>449.737927</td>\n",
       "      <td>0.204783</td>\n",
       "    </tr>\n",
       "    <tr>\n",
       "      <th>1336</th>\n",
       "      <td>21</td>\n",
       "      <td>1</td>\n",
       "      <td>25.800</td>\n",
       "      <td>0</td>\n",
       "      <td>0</td>\n",
       "      <td>1</td>\n",
       "      <td>2007.94500</td>\n",
       "      <td>18.207025</td>\n",
       "      <td>331.495774</td>\n",
       "      <td>0.204783</td>\n",
       "    </tr>\n",
       "    <tr>\n",
       "      <th>1337</th>\n",
       "      <td>61</td>\n",
       "      <td>1</td>\n",
       "      <td>29.070</td>\n",
       "      <td>0</td>\n",
       "      <td>1</td>\n",
       "      <td>3</td>\n",
       "      <td>29141.36030</td>\n",
       "      <td>-21.792975</td>\n",
       "      <td>474.933741</td>\n",
       "      <td>-0.795217</td>\n",
       "    </tr>\n",
       "  </tbody>\n",
       "</table>\n",
       "<p>1338 rows × 10 columns</p>\n",
       "</div>"
      ],
      "text/plain": [
       "      age  sex     bmi  children  smoker  region      charges  difference_x  \\\n",
       "0      19    1  27.900         0       1       1  16884.92400     20.207025   \n",
       "1      18    0  33.770         1       0       2   1725.55230     21.207025   \n",
       "2      28    0  33.000         3       0       2   4449.46200     11.207025   \n",
       "3      33    0  22.705         0       0       3  21984.47061      6.207025   \n",
       "4      32    0  28.880         0       0       3   3866.85520      7.207025   \n",
       "...   ...  ...     ...       ...     ...     ...          ...           ...   \n",
       "1333   50    0  30.970         3       0       3  10600.54830    -10.792975   \n",
       "1334   18    1  31.920         0       0       4   2205.98080     21.207025   \n",
       "1335   18    1  36.850         0       0       2   1629.83350     21.207025   \n",
       "1336   21    1  25.800         0       0       1   2007.94500     18.207025   \n",
       "1337   61    1  29.070         0       1       3  29141.36030    -21.792975   \n",
       "\n",
       "      difference_x^2  difference_y  \n",
       "0         408.323876     -0.795217  \n",
       "1         449.737927      0.204783  \n",
       "2         125.597419      0.204783  \n",
       "3          38.527164      0.204783  \n",
       "4          51.941215      0.204783  \n",
       "...              ...           ...  \n",
       "1333      116.488300      0.204783  \n",
       "1334      449.737927      0.204783  \n",
       "1335      449.737927      0.204783  \n",
       "1336      331.495774      0.204783  \n",
       "1337      474.933741     -0.795217  \n",
       "\n",
       "[1338 rows x 10 columns]"
      ]
     },
     "execution_count": 93,
     "metadata": {},
     "output_type": "execute_result"
    }
   ],
   "source": [
    "df"
   ]
  },
  {
   "cell_type": "code",
   "execution_count": 95,
   "id": "094e9459",
   "metadata": {},
   "outputs": [
    {
     "data": {
      "text/plain": [
       "13270.422265141257"
      ]
     },
     "execution_count": 95,
     "metadata": {},
     "output_type": "execute_result"
    }
   ],
   "source": [
    "n=1337\n",
    "x_bar =df.charges.mean()\n",
    "x_bar"
   ]
  },
  {
   "cell_type": "code",
   "execution_count": 97,
   "id": "df60f796",
   "metadata": {},
   "outputs": [
    {
     "data": {
      "text/plain": [
       "9382.033"
      ]
     },
     "execution_count": 97,
     "metadata": {},
     "output_type": "execute_result"
    }
   ],
   "source": [
    "muu=df.charges.median()\n",
    "muu"
   ]
  },
  {
   "cell_type": "code",
   "execution_count": 98,
   "id": "1bfcb91c",
   "metadata": {},
   "outputs": [
    {
     "data": {
      "text/plain": [
       "12110.011236693994"
      ]
     },
     "execution_count": 98,
     "metadata": {},
     "output_type": "execute_result"
    }
   ],
   "source": [
    "Sd=df.charges.std()\n",
    "Sd"
   ]
  },
  {
   "cell_type": "code",
   "execution_count": 99,
   "id": "dfb92ad0",
   "metadata": {},
   "outputs": [
    {
     "name": "stdout",
     "output_type": "stream",
     "text": [
      "t-statistics t = 11.7406\n",
      "Confidence interval with 99% confidence level: (-∞)(13815.5614)\n"
     ]
    }
   ],
   "source": [
    "n=1337\n",
    "mu_0=muu\n",
    "alpha=0.05\n",
    "t_stat=math.sqrt(n)*(x_bar - mu_0)/Sd\n",
    "crit=t.ppf(1-alpha, n-1)\n",
    "wing_span=crit*Sd/(math.sqrt(n))\n",
    "print((\"t-statistics t = {:.4f}\").format(t_stat))\n",
    "print((\"Confidence interval with 99% confidence level: (-∞)({:.4f})\").format(x_bar+wing_span))"
   ]
  }
 ],
 "metadata": {
  "kernelspec": {
   "display_name": "Python 3 (ipykernel)",
   "language": "python",
   "name": "python3"
  },
  "language_info": {
   "codemirror_mode": {
    "name": "ipython",
    "version": 3
   },
   "file_extension": ".py",
   "mimetype": "text/x-python",
   "name": "python",
   "nbconvert_exporter": "python",
   "pygments_lexer": "ipython3",
   "version": "3.9.7"
  }
 },
 "nbformat": 4,
 "nbformat_minor": 5
}
